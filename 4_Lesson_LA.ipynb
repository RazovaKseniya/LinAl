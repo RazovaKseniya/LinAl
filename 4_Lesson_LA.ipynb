{
 "cells": [
  {
   "cell_type": "markdown",
   "id": "188275c6",
   "metadata": {},
   "source": [
    "__1.__ Решите систему уравнений методом Гаусса:\n",
    "\n",
    "$$\\begin{cases}\n",
    "x_{1}+x_{2}-x_{3}-2x_{4}=0, \\\\\n",
    "2x_{1}+x_{2}-x_{3}+x_{4}=-2, \\\\\n",
    "x_{1}+x_{2}-3x_{3}+x_{4}=4.\n",
    "\\end{cases}$$"
   ]
  },
  {
   "cell_type": "markdown",
   "id": "460d24ba",
   "metadata": {},
   "source": [
    "Запишем расширенную матрицу системы:\n",
    "\n",
    "$$\\begin{pmatrix}\n",
    "\\left.\\begin{matrix}\n",
    "1 & 1 & -1 & -2 \\\\ \n",
    "2 & 1 & -1 & 1 \\\\ \n",
    "1 & 1 & -3 & 1\n",
    "\\end{matrix}\\right|\n",
    "\\begin{matrix}\n",
    "0\\\\ \n",
    "-2\\\\\n",
    "4\n",
    "\\end{matrix}\n",
    "\\end{pmatrix}.$$"
   ]
  },
  {
   "cell_type": "markdown",
   "id": "b5747233",
   "metadata": {},
   "source": [
    "Путём элементарных преобразований постараемся привести матрицу к ступенчатому виду.\n",
    "\n",
    "$$\\begin{pmatrix}\n",
    "\\left.\\begin{matrix}\n",
    "1 & 1 & -1 & -2 \\\\ \n",
    "0 & -1 & 1 & 5 \\\\ \n",
    "0 & 0 & 1 & -3/2\n",
    "\\end{matrix}\\right|\n",
    "\\begin{matrix}\n",
    "0\\\\ \n",
    "-2\\\\\n",
    "-2\n",
    "\\end{matrix}\n",
    "\\end{pmatrix}.$$"
   ]
  },
  {
   "cell_type": "markdown",
   "id": "52a1c106",
   "metadata": {},
   "source": [
    "В итоге после преобразований мы получили матрицу треугольного вида, которая представляет следующую систему:\n",
    "\n",
    "$$\\begin{cases}\n",
    "x_{1}+x_{2}-x_{3}-2x_{4}=0, \\\\\n",
    "~~-x_{2}+x_{3}+5x_{4}=-2, \\\\\n",
    "~~~~~~~~~~~~~~~x_{3}-3/2x_{4}=-2.\n",
    "\\end{cases}$$"
   ]
  },
  {
   "cell_type": "markdown",
   "id": "a1e16616",
   "metadata": {},
   "source": [
    "Получаем в итоге:\n",
    "\n",
    "$$\\begin{cases}\n",
    "x_{1}=-2-3x_{4}, \\\\\n",
    "x_{2}=13/2x_{4}, \\\\\n",
    "x_{3}=-2+3/2x_{4}.\n",
    "\\end{cases}$$"
   ]
  },
  {
   "cell_type": "markdown",
   "id": "364ff264",
   "metadata": {},
   "source": [
    "Ранг расширенной матрицы 3 = рангу обычной матрицы тоже 3, количество неизвестных = 4. Соответственно матрица неопределенная и имеет бесконечное множетсво решений."
   ]
  },
  {
   "cell_type": "markdown",
   "id": "69cb310c",
   "metadata": {},
   "source": [
    "__2.__ Проверьте на совместность и выясните, сколько решений будет иметь система линейных уравнений:\n",
    "\n",
    "   а) $\\begin{cases}\n",
    "3x_{1}-x_{2}+x_{3}=4, \\\\\n",
    "2x_{1}-5x_{2}-3x_{3}=-17, \\\\\n",
    "x_{1}+x_{2}-x_{3}=0;\n",
    "\\end{cases}$\n",
    "    \n",
    "   б) $\\begin{cases}\n",
    "2x_{1}-4x_{2}+6x_{3}=1, \\\\\n",
    "x_{1}-2x_{2}+3x_{3}=-2, \\\\\n",
    "3x_{1}-6x_{2}+9x_{3}=5;\n",
    "\\end{cases}$\n",
    "    \n",
    "   в) $\\begin{cases}\n",
    "x_{1}+2x_{2}+5x_{3}=4, \\\\\n",
    "3x_{1}+x_{2}-8x_{3}=-2. \n",
    "\\end{cases}$"
   ]
  },
  {
   "cell_type": "code",
   "execution_count": 3,
   "id": "45f4052a",
   "metadata": {},
   "outputs": [
    {
     "data": {
      "text/plain": [
       "(3, 3)"
      ]
     },
     "execution_count": 3,
     "metadata": {},
     "output_type": "execute_result"
    }
   ],
   "source": [
    "import numpy as np\n",
    "\n",
    "A1_1 = np.array([[3, -1, 1, 4], [2, -5, -3, -17], [1, 1, -1, 0]])\n",
    "A_1 = np.array([[3, -1, 1], [2, -5, -3], [1, 1, -1]])\n",
    "x_1 = np.linalg.matrix_rank(A1_1)\n",
    "y_1 = np.linalg.matrix_rank(A_1)\n",
    "x_1, y_1"
   ]
  },
  {
   "cell_type": "markdown",
   "id": "a32e59a7",
   "metadata": {},
   "source": [
    "Ранг расширенной матрицы 3 = рангу обычной матрицы тоже 3, количество неизвестных = 3. Соответственно матрица определена и имеет единственное решение."
   ]
  },
  {
   "cell_type": "code",
   "execution_count": 8,
   "id": "45a3ed2c",
   "metadata": {},
   "outputs": [
    {
     "data": {
      "text/plain": [
       "(2, 1)"
      ]
     },
     "execution_count": 8,
     "metadata": {},
     "output_type": "execute_result"
    }
   ],
   "source": [
    "A2_1 = np.array([[2, -4, 6, 1], [1, -2, 3, -2], [3, -6, 9, 5]])\n",
    "A_2 = np.array([[2, -4, 6 ], [1, -2, 3], [3, -6, 9]])\n",
    "x_2 = np.linalg.matrix_rank(A2_1)\n",
    "y_2 = np.linalg.matrix_rank(A_2)\n",
    "x_2, y_2"
   ]
  },
  {
   "cell_type": "markdown",
   "id": "cc79cb6d",
   "metadata": {},
   "source": [
    "Ранг расширенной матрицы не равна рангу обычной матрицы, количество неизвестных = 3. Соответственно матрица несовместна"
   ]
  },
  {
   "cell_type": "code",
   "execution_count": 9,
   "id": "89d34a0b",
   "metadata": {},
   "outputs": [
    {
     "data": {
      "text/plain": [
       "(2, 2)"
      ]
     },
     "execution_count": 9,
     "metadata": {},
     "output_type": "execute_result"
    }
   ],
   "source": [
    "A3_1 = np.array([[1, 2, 5, 4], [3, 1, -8, -2]])\n",
    "A_3 = np.array([[1, 2, 5 ], [3, 1, -8]])\n",
    "x_3 = np.linalg.matrix_rank(A3_1)\n",
    "y_3 = np.linalg.matrix_rank(A_3)\n",
    "x_3, y_3"
   ]
  },
  {
   "cell_type": "markdown",
   "id": "33e3b48b",
   "metadata": {},
   "source": [
    "Ранг расширенной матрицы 2 = рангу обычной матрицы тоже 2, количество неизвестных = 3. Соответственно матрица неопределенная и имеет бесконечное множетсво решений.\n"
   ]
  },
  {
   "cell_type": "markdown",
   "id": "096e5b3a",
   "metadata": {},
   "source": [
    "__3.__ Проверьте на совместность и выясните, сколько решений будет иметь система линейных уравнений, заданная расширенной матрицей:\n",
    "\n",
    "$$\\tilde{A}=\\begin{pmatrix}\n",
    "\\left.\\begin{matrix}\n",
    "1 & 3 & -2 & 4\\\\ \n",
    "0 & 5 & 0 & 1\\\\ \n",
    "0 & 0 & 3 & 0\\\\ \n",
    "0 & 0 & 0 & 2\n",
    "\\end{matrix}\\right|\n",
    "\\begin{matrix}\n",
    "3\\\\ \n",
    "2\\\\\n",
    "4\\\\\n",
    "1\n",
    "\\end{matrix}\n",
    "\\end{pmatrix}.$$"
   ]
  },
  {
   "cell_type": "code",
   "execution_count": 10,
   "id": "148e2a12",
   "metadata": {},
   "outputs": [
    {
     "data": {
      "text/plain": [
       "(4, 4)"
      ]
     },
     "execution_count": 10,
     "metadata": {},
     "output_type": "execute_result"
    }
   ],
   "source": [
    "A1_4 = np.array([[1, 3, -2, 4, 3], [0, 5, 0, 1, 2], [0, 0, 3, 0, 4], [0, 0, 0, 2, 1]])\n",
    "A_4 = np.array([[1, 3, -2, 4], [0, 5, 0, 1], [0, 0, 3, 0], [0, 0, 0, 2]])\n",
    "x_4 = np.linalg.matrix_rank(A1_4)\n",
    "y_4 = np.linalg.matrix_rank(A_4)\n",
    "x_4, y_4"
   ]
  },
  {
   "cell_type": "markdown",
   "id": "84b04c86",
   "metadata": {},
   "source": [
    "Ранг расширенной матрицы 4 = рангу обычной матрицы тоже 4, количество неизвестных = 4. Соответственно матрица определена и имеет единственное решение. Также она является совместной, так как имеет хотя бы одно решение.\n"
   ]
  },
  {
   "cell_type": "markdown",
   "id": "3d0093b6",
   "metadata": {},
   "source": [
    "__4.__ Дана система линейных уравнений, заданная расширенной матрицей:\n",
    "\n",
    "$$\\tilde{A}=\\begin{pmatrix}\n",
    "\\left.\\begin{matrix}\n",
    "1 & 2 & 3\\\\ \n",
    "4 & 5 & 6\\\\ \n",
    "7 & 8 & 9\n",
    "\\end{matrix}\\right|\n",
    "\\begin{matrix}\n",
    "a\\\\ \n",
    "b\\\\\n",
    "c\n",
    "\\end{matrix}\n",
    "\\end{pmatrix}.$$\n",
    "\n",
    "Найдите соотношение между параметрами $a$, $b$ и $c$, при которых система считается несовместной."
   ]
  },
  {
   "cell_type": "code",
   "execution_count": 16,
   "id": "9202b31e",
   "metadata": {},
   "outputs": [
    {
     "data": {
      "text/plain": [
       "(3, 2)"
      ]
     },
     "execution_count": 16,
     "metadata": {},
     "output_type": "execute_result"
    }
   ],
   "source": [
    "A1_5 = np.array([[1, 2, 3, 1], [4, 5, 6, 3], [7, 8, 9, 4]])\n",
    "A_5 = np.array([[1, 2, 3], [4, 5, 6], [7, 8, 9]])\n",
    "x_5 = np.linalg.matrix_rank(A1_5)\n",
    "y_5 = np.linalg.matrix_rank(A_5)\n",
    "x_5, y_5"
   ]
  },
  {
   "cell_type": "code",
   "execution_count": 17,
   "id": "3e835301",
   "metadata": {},
   "outputs": [
    {
     "data": {
      "text/plain": [
       "(3, 2)"
      ]
     },
     "execution_count": 17,
     "metadata": {},
     "output_type": "execute_result"
    }
   ],
   "source": [
    "A1_5 = np.array([[1, 2, 3, 1], [4, 5, 6, 2], [7, 8, 9, 6]])\n",
    "A_5 = np.array([[1, 2, 3], [4, 5, 6], [7, 8, 9]])\n",
    "x_5 = np.linalg.matrix_rank(A1_5)\n",
    "y_5 = np.linalg.matrix_rank(A_5)\n",
    "x_5, y_5"
   ]
  },
  {
   "cell_type": "code",
   "execution_count": 18,
   "id": "d3eba771",
   "metadata": {},
   "outputs": [
    {
     "data": {
      "text/plain": [
       "(3, 2)"
      ]
     },
     "execution_count": 18,
     "metadata": {},
     "output_type": "execute_result"
    }
   ],
   "source": [
    "A1_5 = np.array([[1, 2, 3, 2], [4, 5, 6, 4], [7, 8, 9, 12]])\n",
    "A_5 = np.array([[1, 2, 3], [4, 5, 6], [7, 8, 9]])\n",
    "x_5 = np.linalg.matrix_rank(A1_5)\n",
    "y_5 = np.linalg.matrix_rank(A_5)\n",
    "x_5, y_5"
   ]
  },
  {
   "cell_type": "code",
   "execution_count": 19,
   "id": "719a59b7",
   "metadata": {},
   "outputs": [
    {
     "data": {
      "text/plain": [
       "(3, 2)"
      ]
     },
     "execution_count": 19,
     "metadata": {},
     "output_type": "execute_result"
    }
   ],
   "source": [
    "A1_5 = np.array([[1, 2, 3, 3], [4, 5, 6, 6], [7, 8, 9, 24]])\n",
    "A_5 = np.array([[1, 2, 3], [4, 5, 6], [7, 8, 9]])\n",
    "x_5 = np.linalg.matrix_rank(A1_5)\n",
    "y_5 = np.linalg.matrix_rank(A_5)\n",
    "x_5, y_5"
   ]
  },
  {
   "cell_type": "markdown",
   "id": "b2f4ac1b",
   "metadata": {},
   "source": [
    "Сотношение между параметрами 𝑎, 𝑏 и 𝑐 должно быть b = 2a, c = 3b"
   ]
  },
  {
   "cell_type": "markdown",
   "id": "ab22bac8",
   "metadata": {},
   "source": [
    "__1.__ Решите систему уравнений методом Крамера:\n",
    "\n",
    "   а) $\\begin{cases}\n",
    "x_{1}-2x_{2}=1 \\\\\n",
    "3x_{1}-4x_{2}=7\n",
    "\\end{cases}$\n",
    "    \n",
    "   б) $\\begin{cases}\n",
    "2x_{1}-x_{2}+5x_{3}=10 \\\\\n",
    "x_{1}+x_{2}-3x_{3}=-2 \\\\\n",
    "2x_{1}+4x_{2}+x_{3}=1\n",
    "\\end{cases}$"
   ]
  },
  {
   "cell_type": "code",
   "execution_count": 11,
   "id": "4aa30410",
   "metadata": {},
   "outputs": [
    {
     "name": "stdout",
     "output_type": "stream",
     "text": [
      "Определитель матрицы А: 2.0000000000000004,\n",
      "Определитель матрицы А_1: 9.999999999999998,\n",
      "Определитель матрицы А_2: 4.0\n",
      "\n",
      "x_1=det(A_1)/det(A)=4.999999999999998\n",
      "x_2=det(A_2)/det(A)=1.9999999999999996\n"
     ]
    }
   ],
   "source": [
    "A=np.array([[1,-2],\n",
    "           [3,-4]])\n",
    "A_1=np.array([[1,-2],\n",
    "              [7,-4]])\n",
    "A_2=np.array([[1,1],\n",
    "              [3,7]])\n",
    "\n",
    "print(f'Определитель матрицы А: {np.linalg.det(A)},\\nОпределитель матрицы А_1: {np.linalg.det(A_1)},\\nОпределитель матрицы А_2: {np.linalg.det(A_2)}\\n\\n'\n",
    "      f'x_1=det(A_1)/det(A)={np.linalg.det(A_1)/np.linalg.det(A)}\\nx_2=det(A_2)/det(A)={np.linalg.det(A_2)/np.linalg.det(A)}')"
   ]
  },
  {
   "cell_type": "code",
   "execution_count": 13,
   "id": "1f7c6370",
   "metadata": {},
   "outputs": [
    {
     "name": "stdout",
     "output_type": "stream",
     "text": [
      "Определитель матрицы B: 42.99999999999998,\n",
      "Определитель матрицы B_1: 86.00000000000004,\n",
      "Определитель матрицы B_2: -43.000000000000014,\n",
      "Определитель матрицы B_3: 42.99999999999998\n",
      "\n",
      "x_1=det(B_1)/det(B)=2.0000000000000018\n",
      "x_2=det(B_2)/det(B)=-1.0000000000000009\n",
      "x_3=det(B_3)/det(B)=1.0\n"
     ]
    }
   ],
   "source": [
    "B=np.array([[2,-1,5],\n",
    "           [1,1,-3],\n",
    "           [2,4,1]])\n",
    "B_1=np.array([[10,-1,5],\n",
    "              [-2,1,-3],\n",
    "              [1,4,1]])\n",
    "B_2=np.array([[2,10,5],\n",
    "              [1,-2,-3],\n",
    "              [2,1,1]])\n",
    "B_3=np.array([[2,-1,10],\n",
    "              [1,1,-2],\n",
    "              [2,4,1]])\n",
    "\n",
    "print(f'Определитель матрицы B: {np.linalg.det(B)},\\nОпределитель матрицы B_1: {np.linalg.det(B_1)},\\nОпределитель матрицы B_2: {np.linalg.det(B_2)},\\nОпределитель матрицы B_3: {np.linalg.det(B_3)}\\n\\n'\n",
    "      f'x_1=det(B_1)/det(B)={np.linalg.det(B_1)/np.linalg.det(B)}\\nx_2=det(B_2)/det(B)={np.linalg.det(B_2)/np.linalg.det(B)}\\nx_3=det(B_3)/det(B)={np.linalg.det(B_3)/np.linalg.det(B)}')"
   ]
  },
  {
   "cell_type": "code",
   "execution_count": null,
   "id": "492161d4",
   "metadata": {},
   "outputs": [],
   "source": []
  }
 ],
 "metadata": {
  "kernelspec": {
   "display_name": "Python 3",
   "language": "python",
   "name": "python3"
  },
  "language_info": {
   "codemirror_mode": {
    "name": "ipython",
    "version": 3
   },
   "file_extension": ".py",
   "mimetype": "text/x-python",
   "name": "python",
   "nbconvert_exporter": "python",
   "pygments_lexer": "ipython3",
   "version": "3.8.8"
  }
 },
 "nbformat": 4,
 "nbformat_minor": 5
}
